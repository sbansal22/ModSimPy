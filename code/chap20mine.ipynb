{
 "cells": [
  {
   "cell_type": "markdown",
   "metadata": {},
   "source": [
    "# Modeling and Simulation in Python\n",
    "\n",
    "Chapter 20\n",
    "\n",
    "Copyright 2017 Allen Downey\n",
    "\n",
    "License: [Creative Commons Attribution 4.0 International](https://creativecommons.org/licenses/by/4.0)\n"
   ]
  },
  {
   "cell_type": "code",
   "execution_count": 1,
   "metadata": {},
   "outputs": [],
   "source": [
    "# Configure Jupyter so figures appear in the notebook\n",
    "%matplotlib inline\n",
    "\n",
    "# Configure Jupyter to display the assigned value after an assignment\n",
    "%config InteractiveShell.ast_node_interactivity='last_expr_or_assign'\n",
    "\n",
    "# import functions from the modsim.py module\n",
    "from modsim import *"
   ]
  },
  {
   "cell_type": "markdown",
   "metadata": {},
   "source": [
    "### Dropping pennies\n",
    "\n",
    "I'll start by getting the units we need from Pint."
   ]
  },
  {
   "cell_type": "code",
   "execution_count": 2,
   "metadata": {},
   "outputs": [
    {
     "data": {
      "text/html": [
       "second"
      ],
      "text/latex": [
       "$second$"
      ],
      "text/plain": [
       "<Unit('second')>"
      ]
     },
     "execution_count": 2,
     "metadata": {},
     "output_type": "execute_result"
    }
   ],
   "source": [
    "m = UNITS.meter\n",
    "s = UNITS.second"
   ]
  },
  {
   "cell_type": "code",
   "execution_count": null,
   "metadata": {},
   "outputs": [],
   "source": []
  },
  {
   "cell_type": "markdown",
   "metadata": {},
   "source": [
    "And defining the initial state."
   ]
  },
  {
   "cell_type": "code",
   "execution_count": 3,
   "metadata": {
    "scrolled": true
   },
   "outputs": [
    {
     "data": {
      "text/html": [
       "<div>\n",
       "<style scoped>\n",
       "    .dataframe tbody tr th:only-of-type {\n",
       "        vertical-align: middle;\n",
       "    }\n",
       "\n",
       "    .dataframe tbody tr th {\n",
       "        vertical-align: top;\n",
       "    }\n",
       "\n",
       "    .dataframe thead th {\n",
       "        text-align: right;\n",
       "    }\n",
       "</style>\n",
       "<table border=\"1\" class=\"dataframe\">\n",
       "  <thead>\n",
       "    <tr style=\"text-align: right;\">\n",
       "      <th></th>\n",
       "      <th>values</th>\n",
       "    </tr>\n",
       "  </thead>\n",
       "  <tbody>\n",
       "    <tr>\n",
       "      <th>y</th>\n",
       "      <td>381 meter</td>\n",
       "    </tr>\n",
       "    <tr>\n",
       "      <th>v</th>\n",
       "      <td>0.0 meter / second</td>\n",
       "    </tr>\n",
       "  </tbody>\n",
       "</table>\n",
       "</div>"
      ],
      "text/plain": [
       "y             381 meter\n",
       "v    0.0 meter / second\n",
       "dtype: object"
      ]
     },
     "execution_count": 3,
     "metadata": {},
     "output_type": "execute_result"
    }
   ],
   "source": [
    "init = State(y=381 * m, \n",
    "             v=0 * m/s)"
   ]
  },
  {
   "cell_type": "markdown",
   "metadata": {},
   "source": [
    "Acceleration due to gravity is about 9.8 m / s$^2$."
   ]
  },
  {
   "cell_type": "code",
   "execution_count": 4,
   "metadata": {},
   "outputs": [
    {
     "data": {
      "text/html": [
       "9.8 meter/second<sup>2</sup>"
      ],
      "text/latex": [
       "$9.8 \\frac{meter}{second^{2}}$"
      ],
      "text/plain": [
       "<Quantity(9.8, 'meter / second ** 2')>"
      ]
     },
     "execution_count": 4,
     "metadata": {},
     "output_type": "execute_result"
    }
   ],
   "source": [
    "g = 9.8 * m/s**2"
   ]
  },
  {
   "cell_type": "markdown",
   "metadata": {},
   "source": [
    "When we call `odeint`, we need an array of timestamps where we want to compute the solution.\n",
    "\n",
    "I'll start with a duration of 10 seconds."
   ]
  },
  {
   "cell_type": "code",
   "execution_count": 5,
   "metadata": {},
   "outputs": [
    {
     "data": {
      "text/html": [
       "10 second"
      ],
      "text/latex": [
       "$10 second$"
      ],
      "text/plain": [
       "<Quantity(10, 'second')>"
      ]
     },
     "execution_count": 5,
     "metadata": {},
     "output_type": "execute_result"
    }
   ],
   "source": [
    "t_end = 10 * s"
   ]
  },
  {
   "cell_type": "markdown",
   "metadata": {},
   "source": [
    "Now we make a `System` object."
   ]
  },
  {
   "cell_type": "code",
   "execution_count": 6,
   "metadata": {},
   "outputs": [
    {
     "data": {
      "text/html": [
       "<div>\n",
       "<style scoped>\n",
       "    .dataframe tbody tr th:only-of-type {\n",
       "        vertical-align: middle;\n",
       "    }\n",
       "\n",
       "    .dataframe tbody tr th {\n",
       "        vertical-align: top;\n",
       "    }\n",
       "\n",
       "    .dataframe thead th {\n",
       "        text-align: right;\n",
       "    }\n",
       "</style>\n",
       "<table border=\"1\" class=\"dataframe\">\n",
       "  <thead>\n",
       "    <tr style=\"text-align: right;\">\n",
       "      <th></th>\n",
       "      <th>values</th>\n",
       "    </tr>\n",
       "  </thead>\n",
       "  <tbody>\n",
       "    <tr>\n",
       "      <th>init</th>\n",
       "      <td>y             381 meter\n",
       "v    0.0 meter / secon...</td>\n",
       "    </tr>\n",
       "    <tr>\n",
       "      <th>g</th>\n",
       "      <td>9.8 meter / second ** 2</td>\n",
       "    </tr>\n",
       "    <tr>\n",
       "      <th>t_end</th>\n",
       "      <td>10 second</td>\n",
       "    </tr>\n",
       "  </tbody>\n",
       "</table>\n",
       "</div>"
      ],
      "text/plain": [
       "init     y             381 meter\n",
       "v    0.0 meter / secon...\n",
       "g                                  9.8 meter / second ** 2\n",
       "t_end                                            10 second\n",
       "dtype: object"
      ]
     },
     "execution_count": 6,
     "metadata": {},
     "output_type": "execute_result"
    }
   ],
   "source": [
    "system = System(init=init, g=g, t_end=t_end)"
   ]
  },
  {
   "cell_type": "markdown",
   "metadata": {},
   "source": [
    "And define the slope function."
   ]
  },
  {
   "cell_type": "code",
   "execution_count": 7,
   "metadata": {},
   "outputs": [],
   "source": [
    "def slope_func(state, t, system):\n",
    "    \"\"\"Compute derivatives of the state.\n",
    "    \n",
    "    state: position, velocity\n",
    "    t: time\n",
    "    system: System object containing `g`\n",
    "    \n",
    "    returns: derivatives of y and v\n",
    "    \"\"\"\n",
    "    y, v = state\n",
    "    unpack(system)    \n",
    "\n",
    "    dydt = v\n",
    "    dvdt = -g\n",
    "    \n",
    "    return dydt, dvdt"
   ]
  },
  {
   "cell_type": "markdown",
   "metadata": {},
   "source": [
    "It's always a good idea to test the slope function with the initial conditions."
   ]
  },
  {
   "cell_type": "code",
   "execution_count": 8,
   "metadata": {},
   "outputs": [
    {
     "name": "stdout",
     "output_type": "stream",
     "text": [
      "0.0 meter / second\n",
      "-9.8 meter / second ** 2\n"
     ]
    }
   ],
   "source": [
    "dydt, dvdt = slope_func(init, 0, system)\n",
    "print(dydt)\n",
    "print(dvdt)"
   ]
  },
  {
   "cell_type": "markdown",
   "metadata": {},
   "source": [
    "Now we're ready to call `run_ode_solver`"
   ]
  },
  {
   "cell_type": "code",
   "execution_count": 9,
   "metadata": {},
   "outputs": [
    {
     "data": {
      "text/plain": [
       "'The solver successfully reached the end of the integration interval.'"
      ]
     },
     "execution_count": 9,
     "metadata": {},
     "output_type": "execute_result"
    }
   ],
   "source": [
    "results, details = run_ode_solver(system, slope_func, max_step=0.5*s)\n",
    "details.message"
   ]
  },
  {
   "cell_type": "markdown",
   "metadata": {},
   "source": [
    "Here are the results:"
   ]
  },
  {
   "cell_type": "code",
   "execution_count": 10,
   "metadata": {},
   "outputs": [
    {
     "data": {
      "text/html": [
       "<div>\n",
       "<style scoped>\n",
       "    .dataframe tbody tr th:only-of-type {\n",
       "        vertical-align: middle;\n",
       "    }\n",
       "\n",
       "    .dataframe tbody tr th {\n",
       "        vertical-align: top;\n",
       "    }\n",
       "\n",
       "    .dataframe thead th {\n",
       "        text-align: right;\n",
       "    }\n",
       "</style>\n",
       "<table border=\"1\" class=\"dataframe\">\n",
       "  <thead>\n",
       "    <tr style=\"text-align: right;\">\n",
       "      <th></th>\n",
       "      <th>y</th>\n",
       "      <th>v</th>\n",
       "    </tr>\n",
       "  </thead>\n",
       "  <tbody>\n",
       "    <tr>\n",
       "      <th>0.000000</th>\n",
       "      <td>381.000000</td>\n",
       "      <td>0.000000</td>\n",
       "    </tr>\n",
       "    <tr>\n",
       "      <th>0.000102</th>\n",
       "      <td>381.000000</td>\n",
       "      <td>-0.001000</td>\n",
       "    </tr>\n",
       "    <tr>\n",
       "      <th>0.001122</th>\n",
       "      <td>380.999994</td>\n",
       "      <td>-0.011000</td>\n",
       "    </tr>\n",
       "    <tr>\n",
       "      <th>0.011327</th>\n",
       "      <td>380.999371</td>\n",
       "      <td>-0.111000</td>\n",
       "    </tr>\n",
       "    <tr>\n",
       "      <th>0.113367</th>\n",
       "      <td>380.937025</td>\n",
       "      <td>-1.110997</td>\n",
       "    </tr>\n",
       "    <tr>\n",
       "      <th>0.613367</th>\n",
       "      <td>379.156526</td>\n",
       "      <td>-6.010997</td>\n",
       "    </tr>\n",
       "    <tr>\n",
       "      <th>1.113367</th>\n",
       "      <td>374.926028</td>\n",
       "      <td>-10.910997</td>\n",
       "    </tr>\n",
       "    <tr>\n",
       "      <th>1.613367</th>\n",
       "      <td>368.245529</td>\n",
       "      <td>-15.810997</td>\n",
       "    </tr>\n",
       "    <tr>\n",
       "      <th>2.113367</th>\n",
       "      <td>359.115031</td>\n",
       "      <td>-20.710997</td>\n",
       "    </tr>\n",
       "    <tr>\n",
       "      <th>2.613367</th>\n",
       "      <td>347.534532</td>\n",
       "      <td>-25.610997</td>\n",
       "    </tr>\n",
       "    <tr>\n",
       "      <th>3.113367</th>\n",
       "      <td>333.504034</td>\n",
       "      <td>-30.510997</td>\n",
       "    </tr>\n",
       "    <tr>\n",
       "      <th>3.613367</th>\n",
       "      <td>317.023535</td>\n",
       "      <td>-35.410997</td>\n",
       "    </tr>\n",
       "    <tr>\n",
       "      <th>4.113367</th>\n",
       "      <td>298.093036</td>\n",
       "      <td>-40.310997</td>\n",
       "    </tr>\n",
       "    <tr>\n",
       "      <th>4.613367</th>\n",
       "      <td>276.712538</td>\n",
       "      <td>-45.210997</td>\n",
       "    </tr>\n",
       "    <tr>\n",
       "      <th>5.113367</th>\n",
       "      <td>252.882039</td>\n",
       "      <td>-50.110997</td>\n",
       "    </tr>\n",
       "    <tr>\n",
       "      <th>5.613367</th>\n",
       "      <td>226.601541</td>\n",
       "      <td>-55.010997</td>\n",
       "    </tr>\n",
       "    <tr>\n",
       "      <th>6.113367</th>\n",
       "      <td>197.871042</td>\n",
       "      <td>-59.910997</td>\n",
       "    </tr>\n",
       "    <tr>\n",
       "      <th>6.613367</th>\n",
       "      <td>166.690544</td>\n",
       "      <td>-64.810997</td>\n",
       "    </tr>\n",
       "    <tr>\n",
       "      <th>7.113367</th>\n",
       "      <td>133.060045</td>\n",
       "      <td>-69.710997</td>\n",
       "    </tr>\n",
       "    <tr>\n",
       "      <th>7.613367</th>\n",
       "      <td>96.979547</td>\n",
       "      <td>-74.610997</td>\n",
       "    </tr>\n",
       "    <tr>\n",
       "      <th>8.113367</th>\n",
       "      <td>58.449048</td>\n",
       "      <td>-79.510997</td>\n",
       "    </tr>\n",
       "    <tr>\n",
       "      <th>8.613367</th>\n",
       "      <td>17.468550</td>\n",
       "      <td>-84.410997</td>\n",
       "    </tr>\n",
       "    <tr>\n",
       "      <th>9.113367</th>\n",
       "      <td>-25.961949</td>\n",
       "      <td>-89.310997</td>\n",
       "    </tr>\n",
       "    <tr>\n",
       "      <th>9.613367</th>\n",
       "      <td>-71.842448</td>\n",
       "      <td>-94.210997</td>\n",
       "    </tr>\n",
       "    <tr>\n",
       "      <th>10.000000</th>\n",
       "      <td>-109.000000</td>\n",
       "      <td>-98.000000</td>\n",
       "    </tr>\n",
       "  </tbody>\n",
       "</table>\n",
       "</div>"
      ],
      "text/plain": [
       "                    y          v\n",
       "0.000000   381.000000   0.000000\n",
       "0.000102   381.000000  -0.001000\n",
       "0.001122   380.999994  -0.011000\n",
       "0.011327   380.999371  -0.111000\n",
       "0.113367   380.937025  -1.110997\n",
       "0.613367   379.156526  -6.010997\n",
       "1.113367   374.926028 -10.910997\n",
       "1.613367   368.245529 -15.810997\n",
       "2.113367   359.115031 -20.710997\n",
       "2.613367   347.534532 -25.610997\n",
       "3.113367   333.504034 -30.510997\n",
       "3.613367   317.023535 -35.410997\n",
       "4.113367   298.093036 -40.310997\n",
       "4.613367   276.712538 -45.210997\n",
       "5.113367   252.882039 -50.110997\n",
       "5.613367   226.601541 -55.010997\n",
       "6.113367   197.871042 -59.910997\n",
       "6.613367   166.690544 -64.810997\n",
       "7.113367   133.060045 -69.710997\n",
       "7.613367    96.979547 -74.610997\n",
       "8.113367    58.449048 -79.510997\n",
       "8.613367    17.468550 -84.410997\n",
       "9.113367   -25.961949 -89.310997\n",
       "9.613367   -71.842448 -94.210997\n",
       "10.000000 -109.000000 -98.000000"
      ]
     },
     "execution_count": 10,
     "metadata": {},
     "output_type": "execute_result"
    }
   ],
   "source": [
    "results"
   ]
  },
  {
   "cell_type": "markdown",
   "metadata": {},
   "source": [
    "And here's position as a function of time:"
   ]
  },
  {
   "cell_type": "code",
   "execution_count": 11,
   "metadata": {},
   "outputs": [
    {
     "name": "stdout",
     "output_type": "stream",
     "text": [
      "Saving figure to file figs/chap09-fig01.pdf\n"
     ]
    },
    {
     "data": {
      "image/png": "[encoded data removed]",
      "text/plain": [
       "<Figure size 432x288 with 1 Axes>"
      ]
     },
     "metadata": {
      "needs_background": "light"
     },
     "output_type": "display_data"
    }
   ],
   "source": [
    "def plot_position(results):\n",
    "    plot(results.y, label='y')\n",
    "    decorate(xlabel='Time (s)',\n",
    "             ylabel='Position (m)')\n",
    "\n",
    "plot_position(results)\n",
    "savefig('figs/chap09-fig01.pdf')"
   ]
  },
  {
   "cell_type": "markdown",
   "metadata": {},
   "source": [
    "### Onto the sidewalk\n",
    "\n",
    "To figure out when the penny hit the sidewalk, we can use `crossings`, which finds the times where a `Series` passes through a given value."
   ]
  },
  {
   "cell_type": "code",
   "execution_count": 12,
   "metadata": {},
   "outputs": [
    {
     "data": {
      "text/plain": [
       "array([8.81788535])"
      ]
     },
     "execution_count": 12,
     "metadata": {},
     "output_type": "execute_result"
    }
   ],
   "source": [
    "t_crossings = crossings(results.y, 0)"
   ]
  },
  {
   "cell_type": "markdown",
   "metadata": {},
   "source": [
    "For this example there should be just one crossing, the time when the penny hits the sidewalk."
   ]
  },
  {
   "cell_type": "code",
   "execution_count": 13,
   "metadata": {},
   "outputs": [
    {
     "data": {
      "text/html": [
       "8.817885349720552 second"
      ],
      "text/latex": [
       "$8.817885349720552 second$"
      ],
      "text/plain": [
       "<Quantity(8.817885349720552, 'second')>"
      ]
     },
     "execution_count": 13,
     "metadata": {},
     "output_type": "execute_result"
    }
   ],
   "source": [
    "t_sidewalk = t_crossings[0] * s"
   ]
  },
  {
   "cell_type": "markdown",
   "metadata": {},
   "source": [
    "We can compare that to the exact result.  Without air resistance, we have\n",
    "\n",
    "$v = -g t$\n",
    "\n",
    "and\n",
    "\n",
    "$y = 381 - g t^2 / 2$\n",
    "\n",
    "Setting $y=0$ and solving for $t$ yields\n",
    "\n",
    "$t = \\sqrt{\\frac{2 y_{init}}{g}}$"
   ]
  },
  {
   "cell_type": "code",
   "execution_count": 14,
   "metadata": {},
   "outputs": [
    {
     "data": {
      "text/html": [
       "8.817885349720552 second"
      ],
      "text/latex": [
       "$8.817885349720552 second$"
      ],
      "text/plain": [
       "<Quantity(8.817885349720552, 'second')>"
      ]
     },
     "execution_count": 14,
     "metadata": {},
     "output_type": "execute_result"
    }
   ],
   "source": [
    "sqrt(2 * init.y / g)"
   ]
  },
  {
   "cell_type": "markdown",
   "metadata": {},
   "source": [
    "The estimate is accurate to about 10 decimal places."
   ]
  },
  {
   "cell_type": "markdown",
   "metadata": {},
   "source": [
    "## Events\n",
    "\n",
    "Instead of running the simulation until the penny goes through the sidewalk, it would be better to detect the point where the penny hits the sidewalk and stop.  `run_ode_solver` provides exactly the tool we need, **event functions**.\n",
    "\n",
    "Here's an event function that returns the height of the penny above the sidewalk:"
   ]
  },
  {
   "cell_type": "code",
   "execution_count": 15,
   "metadata": {},
   "outputs": [],
   "source": [
    "def event_func(state, t, system):\n",
    "    \"\"\"Return the height of the penny above the sidewalk.\n",
    "    \"\"\"\n",
    "    y, v = state\n",
    "    return y"
   ]
  },
  {
   "cell_type": "markdown",
   "metadata": {},
   "source": [
    "And here's how we pass it to `run_ode_solver`.  The solver should run until the event function returns 0, and then terminate."
   ]
  },
  {
   "cell_type": "code",
   "execution_count": 16,
   "metadata": {},
   "outputs": [
    {
     "data": {
      "text/html": [
       "<div>\n",
       "<style scoped>\n",
       "    .dataframe tbody tr th:only-of-type {\n",
       "        vertical-align: middle;\n",
       "    }\n",
       "\n",
       "    .dataframe tbody tr th {\n",
       "        vertical-align: top;\n",
       "    }\n",
       "\n",
       "    .dataframe thead th {\n",
       "        text-align: right;\n",
       "    }\n",
       "</style>\n",
       "<table border=\"1\" class=\"dataframe\">\n",
       "  <thead>\n",
       "    <tr style=\"text-align: right;\">\n",
       "      <th></th>\n",
       "      <th>values</th>\n",
       "    </tr>\n",
       "  </thead>\n",
       "  <tbody>\n",
       "    <tr>\n",
       "      <th>sol</th>\n",
       "      <td>None</td>\n",
       "    </tr>\n",
       "    <tr>\n",
       "      <th>t_events</th>\n",
       "      <td>[[8.81788534972056]]</td>\n",
       "    </tr>\n",
       "    <tr>\n",
       "      <th>nfev</th>\n",
       "      <td>38</td>\n",
       "    </tr>\n",
       "    <tr>\n",
       "      <th>njev</th>\n",
       "      <td>0</td>\n",
       "    </tr>\n",
       "    <tr>\n",
       "      <th>nlu</th>\n",
       "      <td>0</td>\n",
       "    </tr>\n",
       "    <tr>\n",
       "      <th>status</th>\n",
       "      <td>1</td>\n",
       "    </tr>\n",
       "    <tr>\n",
       "      <th>message</th>\n",
       "      <td>A termination event occurred.</td>\n",
       "    </tr>\n",
       "    <tr>\n",
       "      <th>success</th>\n",
       "      <td>True</td>\n",
       "    </tr>\n",
       "  </tbody>\n",
       "</table>\n",
       "</div>"
      ],
      "text/plain": [
       "sol                                  None\n",
       "t_events             [[8.81788534972056]]\n",
       "nfev                                   38\n",
       "njev                                    0\n",
       "nlu                                     0\n",
       "status                                  1\n",
       "message     A termination event occurred.\n",
       "success                              True\n",
       "dtype: object"
      ]
     },
     "execution_count": 16,
     "metadata": {},
     "output_type": "execute_result"
    }
   ],
   "source": [
    "results, details = run_ode_solver(system, slope_func, events=event_func)\n",
    "details"
   ]
  },
  {
   "cell_type": "markdown",
   "metadata": {},
   "source": [
    "The message from the solver indicates the solver stopped because the event we wanted to detect happened.\n",
    "\n",
    "Here are the results:"
   ]
  },
  {
   "cell_type": "code",
   "execution_count": 17,
   "metadata": {},
   "outputs": [
    {
     "data": {
      "text/html": [
       "<div>\n",
       "<style scoped>\n",
       "    .dataframe tbody tr th:only-of-type {\n",
       "        vertical-align: middle;\n",
       "    }\n",
       "\n",
       "    .dataframe tbody tr th {\n",
       "        vertical-align: top;\n",
       "    }\n",
       "\n",
       "    .dataframe thead th {\n",
       "        text-align: right;\n",
       "    }\n",
       "</style>\n",
       "<table border=\"1\" class=\"dataframe\">\n",
       "  <thead>\n",
       "    <tr style=\"text-align: right;\">\n",
       "      <th></th>\n",
       "      <th>y</th>\n",
       "      <th>v</th>\n",
       "    </tr>\n",
       "  </thead>\n",
       "  <tbody>\n",
       "    <tr>\n",
       "      <th>0.000000</th>\n",
       "      <td>3.810000e+02</td>\n",
       "      <td>0.000000</td>\n",
       "    </tr>\n",
       "    <tr>\n",
       "      <th>0.000102</th>\n",
       "      <td>3.810000e+02</td>\n",
       "      <td>-0.001000</td>\n",
       "    </tr>\n",
       "    <tr>\n",
       "      <th>0.001122</th>\n",
       "      <td>3.810000e+02</td>\n",
       "      <td>-0.011000</td>\n",
       "    </tr>\n",
       "    <tr>\n",
       "      <th>0.011327</th>\n",
       "      <td>3.809994e+02</td>\n",
       "      <td>-0.111000</td>\n",
       "    </tr>\n",
       "    <tr>\n",
       "      <th>0.113367</th>\n",
       "      <td>3.809370e+02</td>\n",
       "      <td>-1.110997</td>\n",
       "    </tr>\n",
       "    <tr>\n",
       "      <th>1.133773</th>\n",
       "      <td>3.747013e+02</td>\n",
       "      <td>-11.110971</td>\n",
       "    </tr>\n",
       "    <tr>\n",
       "      <th>8.817885</th>\n",
       "      <td>5.684342e-14</td>\n",
       "      <td>-86.415276</td>\n",
       "    </tr>\n",
       "  </tbody>\n",
       "</table>\n",
       "</div>"
      ],
      "text/plain": [
       "                     y          v\n",
       "0.000000  3.810000e+02   0.000000\n",
       "0.000102  3.810000e+02  -0.001000\n",
       "0.001122  3.810000e+02  -0.011000\n",
       "0.011327  3.809994e+02  -0.111000\n",
       "0.113367  3.809370e+02  -1.110997\n",
       "1.133773  3.747013e+02 -11.110971\n",
       "8.817885  5.684342e-14 -86.415276"
      ]
     },
     "execution_count": 17,
     "metadata": {},
     "output_type": "execute_result"
    }
   ],
   "source": [
    "results"
   ]
  },
  {
   "cell_type": "markdown",
   "metadata": {},
   "source": [
    "With the `events` option, the solver returns the actual time steps it computed, which are not necessarily equally spaced. \n",
    "\n",
    "The last time step is when the event occurred:"
   ]
  },
  {
   "cell_type": "code",
   "execution_count": 18,
   "metadata": {},
   "outputs": [
    {
     "data": {
      "text/html": [
       "8.81788534972056 second"
      ],
      "text/latex": [
       "$8.81788534972056 second$"
      ],
      "text/plain": [
       "<Quantity(8.81788534972056, 'second')>"
      ]
     },
     "execution_count": 18,
     "metadata": {},
     "output_type": "execute_result"
    }
   ],
   "source": [
    "t_sidewalk = get_last_label(results) * s"
   ]
  },
  {
   "cell_type": "markdown",
   "metadata": {},
   "source": [
    "Unfortunately, `run_ode_solver` does not carry the units through the computation, so we have to put them back at the end.\n",
    "\n",
    "We could also get the time of the event from `details`, but it's a minor nuisance because it comes packed in an array:"
   ]
  },
  {
   "cell_type": "code",
   "execution_count": 19,
   "metadata": {},
   "outputs": [
    {
     "data": {
      "text/html": [
       "8.81788534972056 second"
      ],
      "text/latex": [
       "$8.81788534972056 second$"
      ],
      "text/plain": [
       "<Quantity(8.81788534972056, 'second')>"
      ]
     },
     "execution_count": 19,
     "metadata": {},
     "output_type": "execute_result"
    }
   ],
   "source": [
    "details.t_events[0][0] * s"
   ]
  },
  {
   "cell_type": "markdown",
   "metadata": {},
   "source": [
    "The result is accurate to about 15 decimal places.\n",
    "\n",
    "We can also check the velocity of the penny when it hits the sidewalk:"
   ]
  },
  {
   "cell_type": "code",
   "execution_count": 20,
   "metadata": {},
   "outputs": [
    {
     "data": {
      "text/html": [
       "-86.41527642726152 meter/second"
      ],
      "text/latex": [
       "$-86.41527642726152 \\frac{meter}{second}$"
      ],
      "text/plain": [
       "<Quantity(-86.41527642726152, 'meter / second')>"
      ]
     },
     "execution_count": 20,
     "metadata": {},
     "output_type": "execute_result"
    }
   ],
   "source": [
    "v_sidewalk = get_last_value(results.v) * m / s"
   ]
  },
  {
   "cell_type": "markdown",
   "metadata": {},
   "source": [
    "And convert to kilometers per hour."
   ]
  },
  {
   "cell_type": "code",
   "execution_count": 21,
   "metadata": {},
   "outputs": [
    {
     "data": {
      "text/html": [
       "-311.0949951381415 kilometer/hour"
      ],
      "text/latex": [
       "$-311.0949951381415 \\frac{kilometer}{hour}$"
      ],
      "text/plain": [
       "<Quantity(-311.0949951381415, 'kilometer / hour')>"
      ]
     },
     "execution_count": 21,
     "metadata": {},
     "output_type": "execute_result"
    }
   ],
   "source": [
    "km = UNITS.kilometer\n",
    "h = UNITS.hour\n",
    "v_sidewalk.to(km / h)"
   ]
  },
  {
   "cell_type": "markdown",
   "metadata": {},
   "source": [
    "If there were no air resistance, the penny would hit the sidewalk (or someone's head) at more than 300 km/h.\n",
    "\n",
    "So it's a good thing there is air resistance."
   ]
  },
  {
   "cell_type": "markdown",
   "metadata": {},
   "source": [
    "## Under the hood\n",
    "\n",
    "Here is the source code for `crossings` so you can see what's happening under the hood:"
   ]
  },
  {
   "cell_type": "code",
   "execution_count": null,
   "metadata": {},
   "outputs": [],
   "source": []
  },
  {
   "cell_type": "markdown",
   "metadata": {},
   "source": [
    "The [documentation of InterpolatedUnivariateSpline is here](https://docs.scipy.org/doc/scipy/reference/generated/scipy.interpolate.InterpolatedUnivariateSpline.html).\n",
    "\n",
    "And you can read the [documentation of `scipy.integrate.solve_ivp`](https://docs.scipy.org/doc/scipy/reference/generated/scipy.integrate.solve_ivp.html) to learn more about how `run_ode_solver` works."
   ]
  },
  {
   "cell_type": "markdown",
   "metadata": {},
   "source": [
    "### Exercises\n",
    "\n",
    "**Exercise:** Here's a question from the web site [Ask an Astronomer](http://curious.astro.cornell.edu/about-us/39-our-solar-system/the-earth/other-catastrophes/57-how-long-would-it-take-the-earth-to-fall-into-the-sun-intermediate):\n",
    "\n",
    "\"If the Earth suddenly stopped orbiting the Sun, I know eventually it would be pulled in by the Sun's gravity and hit it. How long would it take the Earth to hit the Sun? I imagine it would go slowly at first and then pick up speed.\"\n",
    "\n",
    "Use `run_ode_solver` to answer this question.\n",
    "\n",
    "Here are some suggestions about how to proceed:\n",
    "\n",
    "1.  Look up the Law of Universal Gravitation and any constants you need.  I suggest you work entirely in SI units: meters, kilograms, and Newtons.\n",
    "\n",
    "2.  When the distance between the Earth and the Sun gets small, this system behaves badly, so you should use an event function to stop when the surface of Earth reaches the surface of the Sun.\n",
    "\n",
    "3. Express your answer in days, and plot the results as millions of kilometers versus days.\n",
    "\n",
    "If you read the reply by Dave Rothstein, you will see other ways to solve the problem, and a good discussion of the modeling decisions behind them.\n",
    "\n",
    "You might also be interested to know that [it's actually not that easy to get to the Sun](https://www.theatlantic.com/science/archive/2018/08/parker-solar-probe-launch-nasa/567197/)."
   ]
  },
  {
   "cell_type": "code",
   "execution_count": 22,
   "metadata": {
    "scrolled": true
   },
   "outputs": [
    {
     "data": {
      "text/html": [
       "second"
      ],
      "text/latex": [
       "$second$"
      ],
      "text/plain": [
       "<Unit('second')>"
      ]
     },
     "execution_count": 22,
     "metadata": {},
     "output_type": "execute_result"
    }
   ],
   "source": [
    "kg = UNITS.kilogram\n",
    "N = UNITS.newton\n",
    "m = UNITS.meter\n",
    "s = UNITS.second"
   ]
  },
  {
   "cell_type": "code",
   "execution_count": 23,
   "metadata": {},
   "outputs": [
    {
     "data": {
      "text/html": [
       "<div>\n",
       "<style scoped>\n",
       "    .dataframe tbody tr th:only-of-type {\n",
       "        vertical-align: middle;\n",
       "    }\n",
       "\n",
       "    .dataframe tbody tr th {\n",
       "        vertical-align: top;\n",
       "    }\n",
       "\n",
       "    .dataframe thead th {\n",
       "        text-align: right;\n",
       "    }\n",
       "</style>\n",
       "<table border=\"1\" class=\"dataframe\">\n",
       "  <thead>\n",
       "    <tr style=\"text-align: right;\">\n",
       "      <th></th>\n",
       "      <th>values</th>\n",
       "    </tr>\n",
       "  </thead>\n",
       "  <tbody>\n",
       "    <tr>\n",
       "      <th>y</th>\n",
       "      <td>149600000000.0 meter</td>\n",
       "    </tr>\n",
       "    <tr>\n",
       "      <th>v</th>\n",
       "      <td>0.0 meter / second</td>\n",
       "    </tr>\n",
       "  </tbody>\n",
       "</table>\n",
       "</div>"
      ],
      "text/plain": [
       "y    149600000000.0 meter\n",
       "v      0.0 meter / second\n",
       "dtype: object"
      ]
     },
     "execution_count": 23,
     "metadata": {},
     "output_type": "execute_result"
    }
   ],
   "source": [
    "init = State(y=1.496e11 * m, \n",
    "             v=0 * m/s)"
   ]
  },
  {
   "cell_type": "code",
   "execution_count": 24,
   "metadata": {},
   "outputs": [
    {
     "data": {
      "text/html": [
       "149600000000.0 meter"
      ],
      "text/latex": [
       "$149600000000.0 meter$"
      ],
      "text/plain": [
       "<Quantity(149600000000.0, 'meter')>"
      ]
     },
     "execution_count": 24,
     "metadata": {},
     "output_type": "execute_result"
    }
   ],
   "source": [
    "G = 6.67e-11 * (m**3) / (kg * (s**2))\n",
    "m1 = 5.972e24 * kg\n",
    "m2 = 1.989e30 * kg\n",
    "Id = 1.496e11 * m"
   ]
  },
  {
   "cell_type": "code",
   "execution_count": 25,
   "metadata": {},
   "outputs": [
    {
     "data": {
      "text/html": [
       "1000000.0 second"
      ],
      "text/latex": [
       "$1000000.0 second$"
      ],
      "text/plain": [
       "<Quantity(1000000.0, 'second')>"
      ]
     },
     "execution_count": 25,
     "metadata": {},
     "output_type": "execute_result"
    }
   ],
   "source": [
    "t_end =1e6 * s"
   ]
  },
  {
   "cell_type": "code",
   "execution_count": 26,
   "metadata": {},
   "outputs": [
    {
     "data": {
      "text/html": [
       "<div>\n",
       "<style scoped>\n",
       "    .dataframe tbody tr th:only-of-type {\n",
       "        vertical-align: middle;\n",
       "    }\n",
       "\n",
       "    .dataframe tbody tr th {\n",
       "        vertical-align: top;\n",
       "    }\n",
       "\n",
       "    .dataframe thead th {\n",
       "        text-align: right;\n",
       "    }\n",
       "</style>\n",
       "<table border=\"1\" class=\"dataframe\">\n",
       "  <thead>\n",
       "    <tr style=\"text-align: right;\">\n",
       "      <th></th>\n",
       "      <th>values</th>\n",
       "    </tr>\n",
       "  </thead>\n",
       "  <tbody>\n",
       "    <tr>\n",
       "      <th>init</th>\n",
       "      <td>y    149600000000.0 meter\n",
       "v      0.0 meter / s...</td>\n",
       "    </tr>\n",
       "    <tr>\n",
       "      <th>G</th>\n",
       "      <td>6.67e-11 meter ** 3 / kilogram / second ** 2</td>\n",
       "    </tr>\n",
       "    <tr>\n",
       "      <th>m1</th>\n",
       "      <td>5.972e+24 kilogram</td>\n",
       "    </tr>\n",
       "    <tr>\n",
       "      <th>m2</th>\n",
       "      <td>1.989e+30 kilogram</td>\n",
       "    </tr>\n",
       "    <tr>\n",
       "      <th>Id</th>\n",
       "      <td>149600000000.0 meter</td>\n",
       "    </tr>\n",
       "    <tr>\n",
       "      <th>t_end</th>\n",
       "      <td>1000000.0 second</td>\n",
       "    </tr>\n",
       "  </tbody>\n",
       "</table>\n",
       "</div>"
      ],
      "text/plain": [
       "init     y    149600000000.0 meter\n",
       "v      0.0 meter / s...\n",
       "G             6.67e-11 meter ** 3 / kilogram / second ** 2\n",
       "m1                                      5.972e+24 kilogram\n",
       "m2                                      1.989e+30 kilogram\n",
       "Id                                    149600000000.0 meter\n",
       "t_end                                     1000000.0 second\n",
       "dtype: object"
      ]
     },
     "execution_count": 26,
     "metadata": {},
     "output_type": "execute_result"
    }
   ],
   "source": [
    "system = System(init=init, G=G, m1=m1, m2=m2, Id=Id, t_end=t_end)"
   ]
  },
  {
   "cell_type": "code",
   "execution_count": 27,
   "metadata": {},
   "outputs": [
    {
     "name": "stdout",
     "output_type": "stream",
     "text": [
      "3.5401138490520174e+22 kilogram * meter / second ** 2\n"
     ]
    }
   ],
   "source": [
    "def universal_gravitation(state, system):    \n",
    "    \"\"\"Computes gravitational force.    \n",
    "    state: State object with position and velocity    \n",
    "    system: System object with m1, m2, and G\"\"\"    \n",
    "    y, v = state    \n",
    "    unpack(system)    \n",
    "    f = G * m1 * m2 / (y ** 2)    \n",
    "    return f\n",
    "f = universal_gravitation(init, system)\n",
    "print(f)"
   ]
  },
  {
   "cell_type": "code",
   "execution_count": 28,
   "metadata": {},
   "outputs": [],
   "source": [
    "def slope_func2(state, t, system):\n",
    "    \"\"\"Compute derivatives of the state.\n",
    "    \n",
    "    state: position, velocity, force\n",
    "    t: time\n",
    "    system: System object containing `G, m1, m2`\n",
    "    \n",
    "    returns: derivatives of y and v\n",
    "    \"\"\"\n",
    "    y, v = state\n",
    "    unpack(system)    \n",
    "\n",
    "    f = universal_gravitation(state, system)\n",
    "    dydt = v\n",
    "    dvdt = -f/m1\n",
    "    \n",
    "    return dydt, dvdt"
   ]
  },
  {
   "cell_type": "code",
   "execution_count": 29,
   "metadata": {},
   "outputs": [
    {
     "name": "stdout",
     "output_type": "stream",
     "text": [
      "0.0 meter / second\n",
      "-0.005927853062712688 meter / second ** 2\n"
     ]
    }
   ],
   "source": [
    "dydt, dvdt = slope_func2(init, 0, system)\n",
    "print(dydt)\n",
    "print(dvdt)"
   ]
  },
  {
   "cell_type": "code",
   "execution_count": 30,
   "metadata": {},
   "outputs": [
    {
     "data": {
      "text/plain": [
       "'The solver successfully reached the end of the integration interval.'"
      ]
     },
     "execution_count": 30,
     "metadata": {},
     "output_type": "execute_result"
    }
   ],
   "source": [
    "results, details = run_ode_solver(system, slope_func2)\n",
    "details.message"
   ]
  },
  {
   "cell_type": "code",
   "execution_count": 31,
   "metadata": {},
   "outputs": [
    {
     "data": {
      "text/html": [
       "<div>\n",
       "<style scoped>\n",
       "    .dataframe tbody tr th:only-of-type {\n",
       "        vertical-align: middle;\n",
       "    }\n",
       "\n",
       "    .dataframe tbody tr th {\n",
       "        vertical-align: top;\n",
       "    }\n",
       "\n",
       "    .dataframe thead th {\n",
       "        text-align: right;\n",
       "    }\n",
       "</style>\n",
       "<table border=\"1\" class=\"dataframe\">\n",
       "  <thead>\n",
       "    <tr style=\"text-align: right;\">\n",
       "      <th></th>\n",
       "      <th>y</th>\n",
       "      <th>v</th>\n",
       "    </tr>\n",
       "  </thead>\n",
       "  <tbody>\n",
       "    <tr>\n",
       "      <th>0.000000</th>\n",
       "      <td>1.496000e+11</td>\n",
       "      <td>0.000000</td>\n",
       "    </tr>\n",
       "    <tr>\n",
       "      <th>0.075080</th>\n",
       "      <td>1.496000e+11</td>\n",
       "      <td>-0.000445</td>\n",
       "    </tr>\n",
       "    <tr>\n",
       "      <th>0.825879</th>\n",
       "      <td>1.496000e+11</td>\n",
       "      <td>-0.004896</td>\n",
       "    </tr>\n",
       "    <tr>\n",
       "      <th>8.333866</th>\n",
       "      <td>1.496000e+11</td>\n",
       "      <td>-0.049402</td>\n",
       "    </tr>\n",
       "    <tr>\n",
       "      <th>83.413736</th>\n",
       "      <td>1.496000e+11</td>\n",
       "      <td>-0.494464</td>\n",
       "    </tr>\n",
       "    <tr>\n",
       "      <th>834.212439</th>\n",
       "      <td>1.496000e+11</td>\n",
       "      <td>-4.945089</td>\n",
       "    </tr>\n",
       "    <tr>\n",
       "      <th>8342.199466</th>\n",
       "      <td>1.495998e+11</td>\n",
       "      <td>-49.451378</td>\n",
       "    </tr>\n",
       "    <tr>\n",
       "      <th>83422.069742</th>\n",
       "      <td>1.495794e+11</td>\n",
       "      <td>-494.559234</td>\n",
       "    </tr>\n",
       "    <tr>\n",
       "      <th>834220.772501</th>\n",
       "      <td>1.475278e+11</td>\n",
       "      <td>-4991.294861</td>\n",
       "    </tr>\n",
       "    <tr>\n",
       "      <th>1000000.000000</th>\n",
       "      <td>1.466162e+11</td>\n",
       "      <td>-6007.899500</td>\n",
       "    </tr>\n",
       "  </tbody>\n",
       "</table>\n",
       "</div>"
      ],
      "text/plain": [
       "                           y            v\n",
       "0.000000        1.496000e+11     0.000000\n",
       "0.075080        1.496000e+11    -0.000445\n",
       "0.825879        1.496000e+11    -0.004896\n",
       "8.333866        1.496000e+11    -0.049402\n",
       "83.413736       1.496000e+11    -0.494464\n",
       "834.212439      1.496000e+11    -4.945089\n",
       "8342.199466     1.495998e+11   -49.451378\n",
       "83422.069742    1.495794e+11  -494.559234\n",
       "834220.772501   1.475278e+11 -4991.294861\n",
       "1000000.000000  1.466162e+11 -6007.899500"
      ]
     },
     "execution_count": 31,
     "metadata": {},
     "output_type": "execute_result"
    }
   ],
   "source": [
    "results"
   ]
  },
  {
   "cell_type": "code",
   "execution_count": 32,
   "metadata": {},
   "outputs": [
    {
     "name": "stdout",
     "output_type": "stream",
     "text": [
      "Saving figure to file figs/chap09-fig01.pdf\n"
     ]
    },
    {
     "data": {
      "image/png": "[encoded data removed]",
      "text/plain": [
       "<Figure size 432x288 with 1 Axes>"
      ]
     },
     "metadata": {
      "needs_background": "light"
     },
     "output_type": "display_data"
    }
   ],
   "source": [
    "def plot_position2(results):\n",
    "    plot(results.y, label='y')\n",
    "    decorate(xlabel='Time (s)',\n",
    "             ylabel='Position (m)')\n",
    "\n",
    "plot_position2(results)\n",
    "savefig('figs/chap09-fig01.pdf')"
   ]
  },
  {
   "cell_type": "code",
   "execution_count": 33,
   "metadata": {},
   "outputs": [],
   "source": [
    "results.index /= 60 * 60 * 24\n",
    "results.y /= 1e9"
   ]
  },
  {
   "cell_type": "code",
   "execution_count": 34,
   "metadata": {},
   "outputs": [
    {
     "data": {
      "image/png": "[encoded data removed]",
      "text/plain": [
       "<Figure size 432x288 with 1 Axes>"
      ]
     },
     "metadata": {
      "needs_background": "light"
     },
     "output_type": "display_data"
    }
   ],
   "source": [
    "plot(results.y, label='r')\n",
    "\n",
    "decorate(xlabel='Time (day)',         \n",
    "         ylabel='Distance from sun (million km)')"
   ]
  },
  {
   "cell_type": "code",
   "execution_count": 35,
   "metadata": {},
   "outputs": [
    {
     "data": {
      "text/html": [
       "695508000.0 meter"
      ],
      "text/latex": [
       "$695508000.0 meter$"
      ],
      "text/plain": [
       "<Quantity(695508000.0, 'meter')>"
      ]
     },
     "execution_count": 35,
     "metadata": {},
     "output_type": "execute_result"
    }
   ],
   "source": [
    "y_earth = 6.371e6 * m\n",
    "y_sun = 695.508e6 * m"
   ]
  },
  {
   "cell_type": "code",
   "execution_count": 36,
   "metadata": {},
   "outputs": [
    {
     "data": {
      "text/html": [
       "<div>\n",
       "<style scoped>\n",
       "    .dataframe tbody tr th:only-of-type {\n",
       "        vertical-align: middle;\n",
       "    }\n",
       "\n",
       "    .dataframe tbody tr th {\n",
       "        vertical-align: top;\n",
       "    }\n",
       "\n",
       "    .dataframe thead th {\n",
       "        text-align: right;\n",
       "    }\n",
       "</style>\n",
       "<table border=\"1\" class=\"dataframe\">\n",
       "  <thead>\n",
       "    <tr style=\"text-align: right;\">\n",
       "      <th></th>\n",
       "      <th>values</th>\n",
       "    </tr>\n",
       "  </thead>\n",
       "  <tbody>\n",
       "    <tr>\n",
       "      <th>init</th>\n",
       "      <td>y    149600000000.0 meter\n",
       "v      0.0 meter / s...</td>\n",
       "    </tr>\n",
       "    <tr>\n",
       "      <th>G</th>\n",
       "      <td>6.67e-11 meter ** 3 / kilogram / second ** 2</td>\n",
       "    </tr>\n",
       "    <tr>\n",
       "      <th>m2</th>\n",
       "      <td>1.989e+30 kilogram</td>\n",
       "    </tr>\n",
       "    <tr>\n",
       "      <th>y_final</th>\n",
       "      <td>701879000.0 meter</td>\n",
       "    </tr>\n",
       "    <tr>\n",
       "      <th>m1</th>\n",
       "      <td>5.972e+24 kilogram</td>\n",
       "    </tr>\n",
       "    <tr>\n",
       "      <th>t_end</th>\n",
       "      <td>10000000.0 second</td>\n",
       "    </tr>\n",
       "  </tbody>\n",
       "</table>\n",
       "</div>"
      ],
      "text/plain": [
       "init       y    149600000000.0 meter\n",
       "v      0.0 meter / s...\n",
       "G               6.67e-11 meter ** 3 / kilogram / second ** 2\n",
       "m2                                        1.989e+30 kilogram\n",
       "y_final                                    701879000.0 meter\n",
       "m1                                        5.972e+24 kilogram\n",
       "t_end                                      10000000.0 second\n",
       "dtype: object"
      ]
     },
     "execution_count": 36,
     "metadata": {},
     "output_type": "execute_result"
    }
   ],
   "source": [
    "system = System(init=init,\n",
    "                G = 6.67e-11 * (m**3) / (kg * (s**2)),\n",
    "                m2 = 1.989e30 * kg,\n",
    "                y_final = y_sun + y_earth,\n",
    "                m1 = 5.972e24 * kg,\n",
    "                t_end= 1e7 * s)"
   ]
  },
  {
   "cell_type": "code",
   "execution_count": 37,
   "metadata": {},
   "outputs": [],
   "source": [
    "def event_func(state, t, system):\n",
    "    y, v = state\n",
    "    return y - system.y_final"
   ]
  },
  {
   "cell_type": "code",
   "execution_count": 38,
   "metadata": {},
   "outputs": [
    {
     "data": {
      "text/html": [
       "148898121000.0 meter"
      ],
      "text/latex": [
       "$148898121000.0 meter$"
      ],
      "text/plain": [
       "<Quantity(148898121000.0, 'meter')>"
      ]
     },
     "execution_count": 38,
     "metadata": {},
     "output_type": "execute_result"
    }
   ],
   "source": [
    "event_func(init, 0, system)"
   ]
  },
  {
   "cell_type": "code",
   "execution_count": 39,
   "metadata": {},
   "outputs": [
    {
     "data": {
      "text/html": [
       "<div>\n",
       "<style scoped>\n",
       "    .dataframe tbody tr th:only-of-type {\n",
       "        vertical-align: middle;\n",
       "    }\n",
       "\n",
       "    .dataframe tbody tr th {\n",
       "        vertical-align: top;\n",
       "    }\n",
       "\n",
       "    .dataframe thead th {\n",
       "        text-align: right;\n",
       "    }\n",
       "</style>\n",
       "<table border=\"1\" class=\"dataframe\">\n",
       "  <thead>\n",
       "    <tr style=\"text-align: right;\">\n",
       "      <th></th>\n",
       "      <th>values</th>\n",
       "    </tr>\n",
       "  </thead>\n",
       "  <tbody>\n",
       "    <tr>\n",
       "      <th>sol</th>\n",
       "      <td>None</td>\n",
       "    </tr>\n",
       "    <tr>\n",
       "      <th>t_events</th>\n",
       "      <td>[[5579114.671797216]]</td>\n",
       "    </tr>\n",
       "    <tr>\n",
       "      <th>nfev</th>\n",
       "      <td>224</td>\n",
       "    </tr>\n",
       "    <tr>\n",
       "      <th>njev</th>\n",
       "      <td>0</td>\n",
       "    </tr>\n",
       "    <tr>\n",
       "      <th>nlu</th>\n",
       "      <td>0</td>\n",
       "    </tr>\n",
       "    <tr>\n",
       "      <th>status</th>\n",
       "      <td>1</td>\n",
       "    </tr>\n",
       "    <tr>\n",
       "      <th>message</th>\n",
       "      <td>A termination event occurred.</td>\n",
       "    </tr>\n",
       "    <tr>\n",
       "      <th>success</th>\n",
       "      <td>True</td>\n",
       "    </tr>\n",
       "  </tbody>\n",
       "</table>\n",
       "</div>"
      ],
      "text/plain": [
       "sol                                  None\n",
       "t_events            [[5579114.671797216]]\n",
       "nfev                                  224\n",
       "njev                                    0\n",
       "nlu                                     0\n",
       "status                                  1\n",
       "message     A termination event occurred.\n",
       "success                              True\n",
       "dtype: object"
      ]
     },
     "execution_count": 39,
     "metadata": {},
     "output_type": "execute_result"
    }
   ],
   "source": [
    "results, details = run_ode_solver(system, slope_func2, events=event_func)\n",
    "details"
   ]
  },
  {
   "cell_type": "code",
   "execution_count": 40,
   "metadata": {},
   "outputs": [
    {
     "data": {
      "text/html": [
       "<div>\n",
       "<style scoped>\n",
       "    .dataframe tbody tr th:only-of-type {\n",
       "        vertical-align: middle;\n",
       "    }\n",
       "\n",
       "    .dataframe tbody tr th {\n",
       "        vertical-align: top;\n",
       "    }\n",
       "\n",
       "    .dataframe thead th {\n",
       "        text-align: right;\n",
       "    }\n",
       "</style>\n",
       "<table border=\"1\" class=\"dataframe\">\n",
       "  <thead>\n",
       "    <tr style=\"text-align: right;\">\n",
       "      <th></th>\n",
       "      <th>y</th>\n",
       "      <th>v</th>\n",
       "    </tr>\n",
       "  </thead>\n",
       "  <tbody>\n",
       "    <tr>\n",
       "      <th>0.000000e+00</th>\n",
       "      <td>1.496000e+11</td>\n",
       "      <td>0.000000</td>\n",
       "    </tr>\n",
       "    <tr>\n",
       "      <th>7.507987e-02</th>\n",
       "      <td>1.496000e+11</td>\n",
       "      <td>-0.000445</td>\n",
       "    </tr>\n",
       "    <tr>\n",
       "      <th>8.258786e-01</th>\n",
       "      <td>1.496000e+11</td>\n",
       "      <td>-0.004896</td>\n",
       "    </tr>\n",
       "    <tr>\n",
       "      <th>8.333866e+00</th>\n",
       "      <td>1.496000e+11</td>\n",
       "      <td>-0.049402</td>\n",
       "    </tr>\n",
       "    <tr>\n",
       "      <th>8.341374e+01</th>\n",
       "      <td>1.496000e+11</td>\n",
       "      <td>-0.494464</td>\n",
       "    </tr>\n",
       "    <tr>\n",
       "      <th>8.342124e+02</th>\n",
       "      <td>1.496000e+11</td>\n",
       "      <td>-4.945089</td>\n",
       "    </tr>\n",
       "    <tr>\n",
       "      <th>8.342199e+03</th>\n",
       "      <td>1.495998e+11</td>\n",
       "      <td>-49.451378</td>\n",
       "    </tr>\n",
       "    <tr>\n",
       "      <th>8.342207e+04</th>\n",
       "      <td>1.495794e+11</td>\n",
       "      <td>-494.559234</td>\n",
       "    </tr>\n",
       "    <tr>\n",
       "      <th>8.342208e+05</th>\n",
       "      <td>1.475278e+11</td>\n",
       "      <td>-4991.294861</td>\n",
       "    </tr>\n",
       "    <tr>\n",
       "      <th>3.522196e+06</th>\n",
       "      <td>1.090961e+11</td>\n",
       "      <td>-25655.769217</td>\n",
       "    </tr>\n",
       "    <tr>\n",
       "      <th>4.751412e+06</th>\n",
       "      <td>6.656600e+10</td>\n",
       "      <td>-47060.309641</td>\n",
       "    </tr>\n",
       "    <tr>\n",
       "      <th>5.172632e+06</th>\n",
       "      <td>4.332623e+10</td>\n",
       "      <td>-65980.707862</td>\n",
       "    </tr>\n",
       "    <tr>\n",
       "      <th>5.425683e+06</th>\n",
       "      <td>2.342529e+10</td>\n",
       "      <td>-97828.839335</td>\n",
       "    </tr>\n",
       "    <tr>\n",
       "      <th>5.476263e+06</th>\n",
       "      <td>1.811374e+10</td>\n",
       "      <td>-113542.437382</td>\n",
       "    </tr>\n",
       "    <tr>\n",
       "      <th>5.529567e+06</th>\n",
       "      <td>1.130015e+10</td>\n",
       "      <td>-147403.171091</td>\n",
       "    </tr>\n",
       "    <tr>\n",
       "      <th>5.564019e+06</th>\n",
       "      <td>5.281985e+09</td>\n",
       "      <td>-220690.228821</td>\n",
       "    </tr>\n",
       "    <tr>\n",
       "      <th>5.570598e+06</th>\n",
       "      <td>3.701950e+09</td>\n",
       "      <td>-264850.046514</td>\n",
       "    </tr>\n",
       "    <tr>\n",
       "      <th>5.575895e+06</th>\n",
       "      <td>2.110249e+09</td>\n",
       "      <td>-352516.459932</td>\n",
       "    </tr>\n",
       "    <tr>\n",
       "      <th>5.577681e+06</th>\n",
       "      <td>1.419990e+09</td>\n",
       "      <td>-430574.712760</td>\n",
       "    </tr>\n",
       "    <tr>\n",
       "      <th>5.579009e+06</th>\n",
       "      <td>7.653382e+08</td>\n",
       "      <td>-587839.754572</td>\n",
       "    </tr>\n",
       "    <tr>\n",
       "      <th>5.579115e+06</th>\n",
       "      <td>7.018790e+08</td>\n",
       "      <td>-613925.286525</td>\n",
       "    </tr>\n",
       "  </tbody>\n",
       "</table>\n",
       "</div>"
      ],
      "text/plain": [
       "                         y              v\n",
       "0.000000e+00  1.496000e+11       0.000000\n",
       "7.507987e-02  1.496000e+11      -0.000445\n",
       "8.258786e-01  1.496000e+11      -0.004896\n",
       "8.333866e+00  1.496000e+11      -0.049402\n",
       "8.341374e+01  1.496000e+11      -0.494464\n",
       "8.342124e+02  1.496000e+11      -4.945089\n",
       "8.342199e+03  1.495998e+11     -49.451378\n",
       "8.342207e+04  1.495794e+11    -494.559234\n",
       "8.342208e+05  1.475278e+11   -4991.294861\n",
       "3.522196e+06  1.090961e+11  -25655.769217\n",
       "4.751412e+06  6.656600e+10  -47060.309641\n",
       "5.172632e+06  4.332623e+10  -65980.707862\n",
       "5.425683e+06  2.342529e+10  -97828.839335\n",
       "5.476263e+06  1.811374e+10 -113542.437382\n",
       "5.529567e+06  1.130015e+10 -147403.171091\n",
       "5.564019e+06  5.281985e+09 -220690.228821\n",
       "5.570598e+06  3.701950e+09 -264850.046514\n",
       "5.575895e+06  2.110249e+09 -352516.459932\n",
       "5.577681e+06  1.419990e+09 -430574.712760\n",
       "5.579009e+06  7.653382e+08 -587839.754572\n",
       "5.579115e+06  7.018790e+08 -613925.286525"
      ]
     },
     "execution_count": 40,
     "metadata": {},
     "output_type": "execute_result"
    }
   ],
   "source": [
    "results"
   ]
  },
  {
   "cell_type": "code",
   "execution_count": 41,
   "metadata": {},
   "outputs": [],
   "source": [
    "results.index /= 60 * 60 * 24\n",
    "results.y /= 1e9"
   ]
  },
  {
   "cell_type": "code",
   "execution_count": 71,
   "metadata": {},
   "outputs": [
    {
     "data": {
      "text/plain": [
       "0.7018790000001479"
      ]
     },
     "execution_count": 71,
     "metadata": {},
     "output_type": "execute_result"
    }
   ],
   "source": [
    "results.y[results.index[-1]]"
   ]
  },
  {
   "cell_type": "code",
   "execution_count": 42,
   "metadata": {},
   "outputs": [
    {
     "data": {
      "image/png": "[encoded data removed]",
      "text/plain": [
       "<Figure size 432x288 with 1 Axes>"
      ]
     },
     "metadata": {
      "needs_background": "light"
     },
     "output_type": "display_data"
    }
   ],
   "source": [
    "plot(results.y, label='r')\n",
    "\n",
    "decorate(xlabel='Time (day)',         \n",
    "         ylabel='Distance from sun (million km)')"
   ]
  },
  {
   "cell_type": "code",
   "execution_count": 43,
   "metadata": {},
   "outputs": [
    {
     "data": {
      "text/plain": [
       "64.57308647913445"
      ]
     },
     "execution_count": 43,
     "metadata": {},
     "output_type": "execute_result"
    }
   ],
   "source": [
    "t_event = get_last_label(results)"
   ]
  },
  {
   "cell_type": "markdown",
   "metadata": {},
   "source": [
    "This value is in days."
   ]
  },
  {
   "cell_type": "code",
   "execution_count": 78,
   "metadata": {},
   "outputs": [
    {
     "data": {
      "text/html": [
       "-5.296010318181818e+33 kilogram meter<sup>2</sup>/second<sup>2</sup>"
      ],
      "text/latex": [
       "$-5.296010318181818e+33 \\frac{kilogram \\cdot meter^{2}}{second^{2}}$"
      ],
      "text/plain": [
       "<Quantity(-5.296010318181818e+33, 'kilogram * meter ** 2 / second ** 2')>"
      ]
     },
     "execution_count": 78,
     "metadata": {},
     "output_type": "execute_result"
    }
   ],
   "source": [
    "InitialGPE = - G * m1 * m2 / (init.y)"
   ]
  },
  {
   "cell_type": "code",
   "execution_count": 79,
   "metadata": {},
   "outputs": [
    {
     "data": {
      "text/html": [
       "-1.128803032431278e+35 kilogram meter<sup>2</sup>/second<sup>2</sup>"
      ],
      "text/latex": [
       "$-1.128803032431278e+35 \\frac{kilogram \\cdot meter^{2}}{second^{2}}$"
      ],
      "text/plain": [
       "<Quantity(-1.128803032431278e+35, 'kilogram * meter ** 2 / second ** 2')>"
      ]
     },
     "execution_count": 79,
     "metadata": {},
     "output_type": "execute_result"
    }
   ],
   "source": [
    "FinalGPE = (- G * m1 * m2 / ((results.y[results.index[-1]])*10e9)) / m"
   ]
  },
  {
   "cell_type": "code",
   "execution_count": 80,
   "metadata": {},
   "outputs": [
    {
     "data": {
      "text/html": [
       "0.0 kilogram meter<sup>2</sup>/second<sup>2</sup>"
      ],
      "text/latex": [
       "$0.0 \\frac{kilogram \\cdot meter^{2}}{second^{2}}$"
      ],
      "text/plain": [
       "<Quantity(0.0, 'kilogram * meter ** 2 / second ** 2')>"
      ]
     },
     "execution_count": 80,
     "metadata": {},
     "output_type": "execute_result"
    }
   ],
   "source": [
    "InitialKE = 0.5 * m1 * (init.v ** 2)"
   ]
  },
  {
   "cell_type": "code",
   "execution_count": 81,
   "metadata": {},
   "outputs": [
    {
     "data": {
      "text/html": [
       "1.12543611269866e+36 kilogram meter<sup>2</sup>/second<sup>2</sup>"
      ],
      "text/latex": [
       "$1.12543611269866e+36 \\frac{kilogram \\cdot meter^{2}}{second^{2}}$"
      ],
      "text/plain": [
       "<Quantity(1.12543611269866e+36, 'kilogram * meter ** 2 / second ** 2')>"
      ]
     },
     "execution_count": 81,
     "metadata": {},
     "output_type": "execute_result"
    }
   ],
   "source": [
    "FinalKE = (0.5 * m1 * (results.v[results.index[-1]] ** 2))* (m**2 / s**2)"
   ]
  },
  {
   "cell_type": "code",
   "execution_count": null,
   "metadata": {},
   "outputs": [],
   "source": []
  }
 ],
 "metadata": {
  "kernelspec": {
   "display_name": "Python 3",
   "language": "python",
   "name": "python3"
  },
  "language_info": {
   "codemirror_mode": {
    "name": "ipython",
    "version": 3
   },
   "file_extension": ".py",
   "mimetype": "text/x-python",
   "name": "python",
   "nbconvert_exporter": "python",
   "pygments_lexer": "ipython3",
   "version": "3.6.6"
  }
 },
 "nbformat": 4,
 "nbformat_minor": 2
}
