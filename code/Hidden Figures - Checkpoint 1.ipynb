{
 "cells": [
  {
   "cell_type": "markdown",
   "metadata": {},
   "source": [
    "# Hidden Figures"
   ]
  },
  {
   "cell_type": "markdown",
   "metadata": {},
   "source": [
    "A simulation of Space Capsule Re-entry by Argyris Kriezis and Sparsh Bansal"
   ]
  },
  {
   "cell_type": "markdown",
   "metadata": {},
   "source": [
    "# What is the range within which the angle of trajectory of a space capsule should lie to enabe it to enter Earth's atmosphere (and not bounce back into space) as well as to bear the heat produced on the heat shield without burning away?"
   ]
  },
  {
   "cell_type": "markdown",
   "metadata": {},
   "source": [
    "Factors causing the heat energy transfer:\n",
    "\n",
    "(i) Friction due to the atmostphere - Force of Drag\n",
    "(ii) Heat lost to the atmosphere\n",
    "\n",
    "When a large object enters the atmosphere at high speed, the air in front of it gets compressed so much that it becomes extremely hot."
   ]
  },
  {
   "cell_type": "markdown",
   "metadata": {},
   "source": [
    "Parameters that affect the heat energy production:\n",
    "\n",
    "(i) Velocity of the spacecraft (m/s)\n",
    "(ii) Radius of the nose (m)\n",
    "(iii) Air Density (kg/m^3)"
   ]
  },
  {
   "cell_type": "code",
   "execution_count": 1,
   "metadata": {},
   "outputs": [],
   "source": [
    "# Configure Jupyter so figures appear in the notebook\n",
    "%matplotlib inline\n",
    "\n",
    "# Configure Jupyter to display the assigned value after an assignment\n",
    "%config InteractiveShell.ast_node_interactivity='last_expr_or_assign'\n",
    "\n",
    "# import functions from the modsim.py module\n",
    "from modsim import *"
   ]
  },
  {
   "cell_type": "code",
   "execution_count": 2,
   "metadata": {},
   "outputs": [],
   "source": [
    "from pandas import read_csv\n",
    "density_data = read_csv(\"Model_Data.csv\")\n",
    "density_data.columns = ['Altitude', 'Scale Height', 'Atmospheric_Density']"
   ]
  },
  {
   "cell_type": "code",
   "execution_count": 3,
   "metadata": {},
   "outputs": [
    {
     "name": "stdout",
     "output_type": "stream",
     "text": [
      "   Altitude  Scale Height  Atmospheric_Density\n",
      "0         0           8.4         1.225000e+00\n",
      "1       100           5.9         5.250000e-07\n",
      "2       150          25.5         1.730000e-09\n",
      "3       200          37.5         2.410000e-10\n",
      "4       250          44.8         5.970000e-11\n",
      "5       300          50.3         1.870000e-11\n",
      "6       350          54.8         6.660000e-12\n",
      "7       400          58.2         2.620000e-12\n",
      "8       450          61.3         1.090000e-12\n",
      "9       500          64.5         4.760000e-13\n",
      "10      550          68.7         2.140000e-13\n",
      "11      600          74.8         9.890000e-14\n",
      "12      650          84.4         4.730000e-14\n",
      "13      700          99.3         2.360000e-14\n",
      "14      750         121.0         1.240000e-14\n",
      "15      800         151.0         6.950000e-15\n",
      "16      850         188.0         4.220000e-15\n",
      "17      900         226.0         2.780000e-15\n",
      "18      950         263.0         1.980000e-15\n",
      "19    1,000         296.0         1.490000e-15\n",
      "20    1,250         408.0         5.700000e-16\n",
      "21    1,500         516.0         2.790000e-16\n",
      "22    2,000         829.0         9.090000e-17\n",
      "23    2,500        1220.0         4.230000e-17\n",
      "24    3,000        1590.0         2.540000e-17\n",
      "25    3,500        1900.0         1.770000e-17\n",
      "26    4,000        2180.0         1.340000e-17\n",
      "27    4,500        2430.0         1.060000e-17\n",
      "28    5,000        2690.0         8.620000e-18\n",
      "29    6,000        3200.0         6.090000e-18\n",
      "30    7,000        3750.0         4.560000e-18\n",
      "31    8,000        4340.0         3.560000e-18\n",
      "32    9,000        4970.0         2.870000e-18\n",
      "33   10,000        5630.0         2.370000e-18\n",
      "34   15,000        9600.0         1.210000e-18\n",
      "35   20,000       14600.0         7.920000e-19\n",
      "36   25,000       20700.0         5.950000e-19\n",
      "37   30,000       27800.0         4.830000e-19\n",
      "38   35,000       36000.0         4.130000e-19\n",
      "39   35,786       37300.0         4.040000e-19\n"
     ]
    }
   ],
   "source": [
    "print(density_data)"
   ]
  },
  {
   "cell_type": "code",
   "execution_count": 4,
   "metadata": {},
   "outputs": [
    {
     "data": {
      "text/plain": [
       "0.10472"
      ]
     },
     "execution_count": 4,
     "metadata": {},
     "output_type": "execute_result"
    }
   ],
   "source": [
    "m = 8857\n",
    "r = 1.85\n",
    "g = 9.8\n",
    "Cd = 1\n",
    "Θ = 0.10472"
   ]
  },
  {
   "cell_type": "code",
   "execution_count": 5,
   "metadata": {},
   "outputs": [],
   "source": [
    "def make_system (V, h, ρ, dt):\n",
    "    \n",
    "    '''\n",
    "    m = mass of the capsule during re-entry\n",
    "    V = Velocity of the spacecraft\n",
    "    ρ = Fluid density of the atmosphere\n",
    "    r = radius of the nose\n",
    "    dt = time step\n",
    "    KE = Kinetic Energy of the Capsule\n",
    "    PE = Potential Energy of the Capsule\n",
    "    ME = Mechanical Energy of the Capsule\n",
    "    h = Height of the Capsule from the surface of the Earth\n",
    "    HS = Heat generated on the heat shield\n",
    "    HA = Heat lost to the atmosphere\n",
    "    '''\n",
    "    init = State(KE = 262565765000, PE = 23293574582, ME = 285859339582, HS = 0, HA = 0)\n",
    "    t_0 = 0\n",
    "    t_end = 500\n",
    "    return System(V=V, h=h, ρ=ρ, dt=dt, \n",
    "                  init=init, t_0=t_0, t_end = t_end)"
   ]
  },
  {
   "cell_type": "code",
   "execution_count": 6,
   "metadata": {},
   "outputs": [
    {
     "data": {
      "text/html": [
       "<div>\n",
       "<style scoped>\n",
       "    .dataframe tbody tr th:only-of-type {\n",
       "        vertical-align: middle;\n",
       "    }\n",
       "\n",
       "    .dataframe tbody tr th {\n",
       "        vertical-align: top;\n",
       "    }\n",
       "\n",
       "    .dataframe thead th {\n",
       "        text-align: right;\n",
       "    }\n",
       "</style>\n",
       "<table border=\"1\" class=\"dataframe\">\n",
       "  <thead>\n",
       "    <tr style=\"text-align: right;\">\n",
       "      <th></th>\n",
       "      <th>values</th>\n",
       "    </tr>\n",
       "  </thead>\n",
       "  <tbody>\n",
       "    <tr>\n",
       "      <th>V</th>\n",
       "      <td>7700</td>\n",
       "    </tr>\n",
       "    <tr>\n",
       "      <th>h</th>\n",
       "      <td>300000</td>\n",
       "    </tr>\n",
       "    <tr>\n",
       "      <th>ρ</th>\n",
       "      <td>2.58e-11</td>\n",
       "    </tr>\n",
       "    <tr>\n",
       "      <th>dt</th>\n",
       "      <td>1</td>\n",
       "    </tr>\n",
       "    <tr>\n",
       "      <th>init</th>\n",
       "      <td>KE    262565765000\n",
       "PE     23293574582\n",
       "ME    28...</td>\n",
       "    </tr>\n",
       "    <tr>\n",
       "      <th>t_0</th>\n",
       "      <td>0</td>\n",
       "    </tr>\n",
       "    <tr>\n",
       "      <th>t_end</th>\n",
       "      <td>500</td>\n",
       "    </tr>\n",
       "  </tbody>\n",
       "</table>\n",
       "</div>"
      ],
      "text/plain": [
       "V                                                     7700\n",
       "h                                                   300000\n",
       "ρ                                                 2.58e-11\n",
       "dt                                                       1\n",
       "init     KE    262565765000\n",
       "PE     23293574582\n",
       "ME    28...\n",
       "t_0                                                      0\n",
       "t_end                                                  500\n",
       "dtype: object"
      ]
     },
     "execution_count": 6,
     "metadata": {},
     "output_type": "execute_result"
    }
   ],
   "source": [
    "system = make_system(V=7700, h=300000, ρ=0.0000000000258, dt=1)"
   ]
  },
  {
   "cell_type": "code",
   "execution_count": 7,
   "metadata": {},
   "outputs": [],
   "source": [
    "import math"
   ]
  },
  {
   "cell_type": "code",
   "execution_count": 8,
   "metadata": {},
   "outputs": [],
   "source": [
    "def update_func(state, t, system):\n",
    "    \n",
    "    KE, PE, ME, HS, HA = state\n",
    "    \n",
    "    dt = 1\n",
    "    \n",
    "    dHSdt = (1.83 * (10 ** (-4)) * (system.V ** 3) * ((system.ρ/r) ** 0.5))\n",
    "    dVdt = (m * g * math.sin(Θ) - (0.5 * system.ρ * (system.V ** 2) * 3.14 * (r ** 2) * Cd))/m\n",
    "    dKEdt = 0.5 * m * (dVdt ** 2) \n",
    "    dhdt = system.V * math.sin(Θ) * dt\n",
    "        \n",
    "    if h > 300000:\n",
    "        system.ρ = 1.870000e-11\n",
    "    if 300000 > h > 250000:\n",
    "        system.ρ = 5.970000e-11\n",
    "    if 250000 > h > 200000:\n",
    "        system.ρ = 2.410000e-10\n",
    "    if 200000 > h > 150000:\n",
    "        system.ρ = 1.730000e-09\n",
    "    if 150000 > h > 100000:\n",
    "        system.ρ = 5.250000e-07\n",
    "    if 100000 > h > 0:\n",
    "        system.ρ = 1.225000e+00\n",
    "        \n",
    "    dh = dhdt*dt\n",
    "    dHS = dHSdt*dt\n",
    "    dPE = (m * g * dhdt * dt)\n",
    "    dKE = dKEdt*dt\n",
    "    dV = dVdt*dt\n",
    "        \n",
    "    system.V = system.V - dV\n",
    "    system.h = system.h - dh\n",
    "    HS = HS + dHS\n",
    "    ME = ME - dKE - dPE\n",
    "    PE = PE - dPE\n",
    "    KE = KE - dKE\n",
    "    HA = ME - HS\n",
    "    \n",
    "    return State(KE=KE, PE=PE, ME=ME, HS=HS, HA=HA)"
   ]
  },
  {
   "cell_type": "code",
   "execution_count": 9,
   "metadata": {},
   "outputs": [],
   "source": [
    "def run_simulation(system, update_func):\n",
    "    unpack(system)\n",
    "    \n",
    "    frame = TimeFrame(columns=init.index)\n",
    "    frame.row[t_0] = init\n",
    "    \n",
    "    for t in linrange(t_0, t_end):\n",
    "        frame.row[t+1] = update_func(frame.row[t], t, system)\n",
    "        \n",
    "    return frame"
   ]
  },
  {
   "cell_type": "code",
   "execution_count": 10,
   "metadata": {},
   "outputs": [
    {
     "data": {
      "text/plain": [
       "<matplotlib.axes._subplots.AxesSubplot at 0x1f6add30518>"
      ]
     },
     "execution_count": 10,
     "metadata": {},
     "output_type": "execute_result"
    },
    {
     "data": {
      "image/png": "[encoded data removed]",
      "text/plain": [
       "<Figure size 432x288 with 1 Axes>"
      ]
     },
     "metadata": {
      "needs_background": "light"
     },
     "output_type": "display_data"
    }
   ],
   "source": [
    "updated_factors = run_simulation(system, update_func)\n",
    "updated_factors.HS.plot()"
   ]
  },
  {
   "cell_type": "code",
   "execution_count": 11,
   "metadata": {},
   "outputs": [
    {
     "data": {
      "text/plain": [
       "<matplotlib.axes._subplots.AxesSubplot at 0x1f6ae060b00>"
      ]
     },
     "execution_count": 11,
     "metadata": {},
     "output_type": "execute_result"
    },
    {
     "data": {
      "image/png": "[encoded data removed]",
      "text/plain": [
       "<Figure size 432x288 with 1 Axes>"
      ]
     },
     "metadata": {
      "needs_background": "light"
     },
     "output_type": "display_data"
    }
   ],
   "source": [
    "updated_factors.HA.plot()"
   ]
  },
  {
   "cell_type": "code",
   "execution_count": 12,
   "metadata": {},
   "outputs": [
    {
     "data": {
      "text/plain": [
       "<matplotlib.axes._subplots.AxesSubplot at 0x1f6ae0b5a58>"
      ]
     },
     "execution_count": 12,
     "metadata": {},
     "output_type": "execute_result"
    },
    {
     "data": {
      "image/png": "[encoded data removed]",
      "text/plain": [
       "<Figure size 432x288 with 1 Axes>"
      ]
     },
     "metadata": {
      "needs_background": "light"
     },
     "output_type": "display_data"
    }
   ],
   "source": [
    "updated_factors.KE.plot()"
   ]
  },
  {
   "cell_type": "code",
   "execution_count": 13,
   "metadata": {},
   "outputs": [
    {
     "data": {
      "text/plain": [
       "<matplotlib.axes._subplots.AxesSubplot at 0x1f6ae1382e8>"
      ]
     },
     "execution_count": 13,
     "metadata": {},
     "output_type": "execute_result"
    },
    {
     "data": {
      "image/png": "[encoded data removed]",
      "text/plain": [
       "<Figure size 432x288 with 1 Axes>"
      ]
     },
     "metadata": {
      "needs_background": "light"
     },
     "output_type": "display_data"
    }
   ],
   "source": [
    "updated_factors.PE.plot()"
   ]
  },
  {
   "cell_type": "code",
   "execution_count": 14,
   "metadata": {},
   "outputs": [
    {
     "data": {
      "text/plain": [
       "<matplotlib.axes._subplots.AxesSubplot at 0x1f6ae1885f8>"
      ]
     },
     "execution_count": 14,
     "metadata": {},
     "output_type": "execute_result"
    },
    {
     "data": {
      "image/png": "[encoded data removed]",
      "text/plain": [
       "<Figure size 432x288 with 1 Axes>"
      ]
     },
     "metadata": {
      "needs_background": "light"
     },
     "output_type": "display_data"
    }
   ],
   "source": [
    "updated_factors.ME.plot()"
   ]
  },
  {
   "cell_type": "code",
   "execution_count": null,
   "metadata": {},
   "outputs": [],
   "source": []
  },
  {
   "cell_type": "code",
   "execution_count": null,
   "metadata": {},
   "outputs": [],
   "source": []
  },
  {
   "cell_type": "code",
   "execution_count": null,
   "metadata": {},
   "outputs": [],
   "source": []
  },
  {
   "cell_type": "code",
   "execution_count": null,
   "metadata": {},
   "outputs": [],
   "source": []
  }
 ],
 "metadata": {
  "kernelspec": {
   "display_name": "Python 3",
   "language": "python",
   "name": "python3"
  },
  "language_info": {
   "codemirror_mode": {
    "name": "ipython",
    "version": 3
   },
   "file_extension": ".py",
   "mimetype": "text/x-python",
   "name": "python",
   "nbconvert_exporter": "python",
   "pygments_lexer": "ipython3",
   "version": "3.6.6"
  }
 },
 "nbformat": 4,
 "nbformat_minor": 2
}
